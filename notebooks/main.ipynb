{
 "cells": [
  {
   "cell_type": "code",
   "execution_count": 2,
   "id": "006ab6a9",
   "metadata": {},
   "outputs": [
    {
     "data": {
      "text/html": [
       "\n",
       "    <div class=\"nb-doc-title\" role=\"banner\" aria-label=\"Document title\">\n",
       "      <h1>Project Template: End-to-End AI/ML Pipeline</h1>\n",
       "      <div class=\"subtitle\">A reusable notebook scaffold for DS projects — ingestion, preprocessing, EDA, modeling, training, evaluation.</div>\n",
       "    </div>\n",
       "    "
      ],
      "text/plain": [
       "<IPython.core.display.HTML object>"
      ]
     },
     "metadata": {},
     "output_type": "display_data"
    },
    {
     "data": {
      "application/javascript": "\n    (function(){\n      try {\n        // Candidate selector sets for different frontends\n        const candidates = [\n          { root: '.jp-Notebook', active: '.jp-Cell.jp-mod-active, .jp-Cell.jp-mod-selected', input: '.jp-Cell-inputWrapper' },\n          { root: 'body',         active: '.cell.selected',                                      input: '.input' }\n        ];\n\n        let active = null;\n        let inputSel = null;\n        for (const c of candidates) {\n          const rootEl = document.querySelector(c.root);\n          if (!rootEl) continue;\n          const a = rootEl.querySelector(c.active);\n          if (a) { active = a; inputSel = c.input; break; }\n        }\n        if (!active) return;\n        const input = active.querySelector(inputSel);\n        if (input) input.style.display = 'none';\n      } catch (e) {\n        console.warn('hide_input error', e);\n      }\n    })();\n    ",
      "text/plain": [
       "<IPython.core.display.Javascript object>"
      ]
     },
     "metadata": {},
     "output_type": "display_data"
    }
   ],
   "source": [
    "from yourproj.utils import setup_notebook, doc_title, section, subsection, hide_input\n",
    "paths = setup_notebook()\n",
    "\n",
    "doc_title(\n",
    "    \"Project Template: End-to-End AI/ML Pipeline\",\n",
    "        \"A reusable notebook scaffold for DS projects — ingestion, preprocessing, EDA, modeling, training, evaluation.\"\n",
    "        )\n",
    "\n",
    "hide_input()"
   ]
  },
  {
   "cell_type": "markdown",
   "id": "proj-toc",
   "metadata": {},
   "source": [
    "## Table of Contents\n",
    "- [Project Introduction](#project-introduction)\n",
    "- [Data Ingest](#data-ingest)\n",
    "- [Preprocess & Feature Engineering](#preprocess--feature-engineering)\n",
    "- [Exploratory Data Analysis](#exploratory-data-analysis)\n",
    "- [Models](#models)\n",
    "- [Training](#training)\n",
    "- [Evaluation](#evaluation)\n"
   ]
  },
  {
   "cell_type": "code",
   "execution_count": 2,
   "id": "d0e1c75c",
   "metadata": {},
   "outputs": [
    {
     "data": {
      "text/html": [
       "\n",
       "    <div class=\"nb-section\" style=\"border-left-color:#2563eb\" role=\"region\" aria-label=\"01 — EDA section\">\n",
       "      <h2>01 — EDA</h2>\n",
       "      <div class=\"subtitle\">Quick checks; heavy logic lives in src/yourproj.</div>\n",
       "    </div>\n",
       "    "
      ],
      "text/plain": [
       "<IPython.core.display.HTML object>"
      ]
     },
     "metadata": {},
     "output_type": "display_data"
    },
    {
     "data": {
      "text/html": [
       "\n",
       "    <div class=\"nb-subsection\" style=\"border-left-color:#93c5fd\" role=\"region\" aria-label=\"Data Ingest subsection\">\n",
       "      <h3>Data Ingest</h3>\n",
       "      <div class=\"subtitle\">Load raw CSVs into DataFrames</div>\n",
       "    </div>\n",
       "    "
      ],
      "text/plain": [
       "<IPython.core.display.HTML object>"
      ]
     },
     "metadata": {},
     "output_type": "display_data"
    }
   ],
   "source": [
    "section(\"01 — EDA\", \"Quick checks; heavy logic lives in src/yourproj.\")\n",
    "subsection(\"Data Ingest\", \"Load raw CSVs into DataFrames\")"
   ]
  },
  {
   "cell_type": "markdown",
   "id": "project-introduction",
   "metadata": {},
   "source": [
    "## Project Introduction\n",
    "**Goal:** Describe the problem you are solving, who benefits, and how success is measured.\n",
    "\n",
    "**Scope:** Outline the boundaries (what is in/out) and key assumptions.\n",
    "\n",
    "**KPIs & Metrics:** Define primary metrics (e.g., accuracy, F1, AUC, MAPE) and business KPIs.\n",
    "\n",
    "**Risks & Constraints:** Data availability/quality, latency/cost constraints, privacy/compliance.\n"
   ]
  },
  {
   "cell_type": "markdown",
   "id": "src-config-py",
   "metadata": {},
   "source": [
    "from IPython.display import Code\n",
    "display(Code(filename=\"src/yourproj/config.py\", language=\"python\"))"
   ]
  },
  {
   "cell_type": "markdown",
   "id": "data-ingest",
   "metadata": {},
   "source": [
    "## Data Ingest\n",
    "**Sources:** List raw sources (files, DBs, APIs), ownership, and access paths.\n",
    "\n",
    "**Schema:** Note important fields, time columns, identifiers, expected volumes.\n",
    "\n",
    "**Freshness:** Update cadence, backfills, and late data handling.\n",
    "\n",
    "**Data Quality:** Missing values, duplicates, outliers; checks you enforce.\n"
   ]
  },
  {
   "cell_type": "markdown",
   "id": "src-ingest-py",
   "metadata": {},
   "source": [
    "<details><summary><code>src/yourproj/ingest.py</code></summary>\n",
    "\n",
    "```python\n",
    "from __future__ import annotations\n",
    "import pandas as pd\n",
    "from pathlib import Path\n",
    "\n",
    "def load_prices(path: Path) -> pd.DataFrame:\n",
    "    if not Path(path).exists():\n",
    "        return pd.DataFrame(columns=['ticker','date','open','high','low','close','volume'])\n",
    "    return pd.read_csv(path, parse_dates=['date'])\n",
    "\n",
    "def load_earnings(path: Path) -> pd.DataFrame:\n",
    "    if not Path(path).exists():\n",
    "        return pd.DataFrame(columns=['ticker','announce_datetime','bmo_amc','eps_actual','eps_estimate'])\n",
    "    return pd.read_csv(path, parse_dates=['announce_datetime'])\n",
    "```\n",
    "</details>\n"
   ]
  },
  {
   "cell_type": "markdown",
   "id": "preprocess-feature-engineering",
   "metadata": {},
   "source": [
    "## Preprocess & Feature Engineering\n",
    "**Cleaning:** Standardize types, handle missing values, de-duplication, scaling.\n",
    "\n",
    "**Transformations:** Windowing, aggregations, joins, label construction.\n",
    "\n",
    "**Feature Catalog:** Keep a short list of features with rationale and leakage checks.\n"
   ]
  },
  {
   "cell_type": "code",
   "execution_count": 4,
   "id": "run-pre-feat",
   "metadata": {},
   "outputs": [
    {
     "ename": "ImportError",
     "evalue": "cannot import name 'ensure_dir' from 'yourproj.utils' (/home/azureuser/ai_project/src/yourproj/utils/__init__.py)",
     "output_type": "error",
     "traceback": [
      "\u001b[31m---------------------------------------------------------------------------\u001b[39m",
      "\u001b[31mImportError\u001b[39m                               Traceback (most recent call last)",
      "\u001b[36mCell\u001b[39m\u001b[36m \u001b[39m\u001b[32mIn[4]\u001b[39m\u001b[32m, line 5\u001b[39m\n\u001b[32m      3\u001b[39m \u001b[38;5;28;01mfrom\u001b[39;00m\u001b[38;5;250m \u001b[39m\u001b[34;01mpathlib\u001b[39;00m\u001b[38;5;250m \u001b[39m\u001b[38;5;28;01mimport\u001b[39;00m Path\n\u001b[32m      4\u001b[39m sys.path.append(\u001b[38;5;28mstr\u001b[39m(Path.cwd() / \u001b[33m'\u001b[39m\u001b[33msrc\u001b[39m\u001b[33m'\u001b[39m))\n\u001b[32m----> \u001b[39m\u001b[32m5\u001b[39m \u001b[38;5;28;01mfrom\u001b[39;00m\u001b[38;5;250m \u001b[39m\u001b[34;01myourproj\u001b[39;00m\u001b[34;01m.\u001b[39;00m\u001b[34;01mpreprocess\u001b[39;00m\u001b[38;5;250m \u001b[39m\u001b[38;5;28;01mimport\u001b[39;00m main \u001b[38;5;28;01mas\u001b[39;00m preprocess_main\n\u001b[32m      6\u001b[39m \u001b[38;5;28;01mfrom\u001b[39;00m\u001b[38;5;250m \u001b[39m\u001b[34;01myourproj\u001b[39;00m\u001b[34;01m.\u001b[39;00m\u001b[34;01mfeatures\u001b[39;00m\u001b[38;5;250m \u001b[39m\u001b[38;5;28;01mimport\u001b[39;00m main \u001b[38;5;28;01mas\u001b[39;00m features_main\n\u001b[32m      7\u001b[39m CONFIG = \u001b[33m'\u001b[39m\u001b[33mconfigs/exp_baseline.yaml\u001b[39m\u001b[33m'\u001b[39m\n",
      "\u001b[36mFile \u001b[39m\u001b[32m~/ai_project/src/yourproj/preprocess.py:5\u001b[39m\n\u001b[32m      3\u001b[39m \u001b[38;5;28;01mfrom\u001b[39;00m\u001b[38;5;250m \u001b[39m\u001b[34;01mpathlib\u001b[39;00m\u001b[38;5;250m \u001b[39m\u001b[38;5;28;01mimport\u001b[39;00m Path\n\u001b[32m      4\u001b[39m \u001b[38;5;28;01mfrom\u001b[39;00m\u001b[38;5;250m \u001b[39m\u001b[34;01m.\u001b[39;00m\u001b[34;01mconfig\u001b[39;00m\u001b[38;5;250m \u001b[39m\u001b[38;5;28;01mimport\u001b[39;00m load_config\n\u001b[32m----> \u001b[39m\u001b[32m5\u001b[39m \u001b[38;5;28;01mfrom\u001b[39;00m\u001b[38;5;250m \u001b[39m\u001b[34;01m.\u001b[39;00m\u001b[34;01mutils\u001b[39;00m\u001b[38;5;250m \u001b[39m\u001b[38;5;28;01mimport\u001b[39;00m ensure_dir\n\u001b[32m      7\u001b[39m \u001b[38;5;28;01mdef\u001b[39;00m\u001b[38;5;250m \u001b[39m\u001b[34malign_events\u001b[39m(prices: pd.DataFrame, earnings: pd.DataFrame) -> pd.DataFrame:\n\u001b[32m      8\u001b[39m     \u001b[38;5;28;01mif\u001b[39;00m earnings.empty \u001b[38;5;129;01mor\u001b[39;00m prices.empty:\n",
      "\u001b[31mImportError\u001b[39m: cannot import name 'ensure_dir' from 'yourproj.utils' (/home/azureuser/ai_project/src/yourproj/utils/__init__.py)"
     ]
    }
   ],
   "source": [
    "# Run preprocess + feature engineering to produce artifacts\n",
    "import sys\n",
    "from pathlib import Path\n",
    "sys.path.append(str(Path.cwd() / 'src'))\n",
    "from yourproj.preprocess import main as preprocess_main\n",
    "from yourproj.features import main as features_main\n",
    "CONFIG = 'configs/exp_baseline.yaml'\n",
    "preprocess_main(CONFIG)\n",
    "features_main(CONFIG)\n"
   ]
  },
  {
   "cell_type": "markdown",
   "id": "src-preprocess-py",
   "metadata": {},
   "source": [
    "<details><summary><code>src/yourproj/preprocess.py</code></summary>\n",
    "\n",
    "```python\n",
    "from __future__ import annotations\n",
    "import pandas as pd\n",
    "from pathlib import Path\n",
    "from .config import load_config\n",
    "from .utils import ensure_dir\n",
    "\n",
    "def align_events(prices: pd.DataFrame, earnings: pd.DataFrame) -> pd.DataFrame:\n",
    "    if earnings.empty or prices.empty:\n",
    "        return pd.DataFrame()\n",
    "    p = prices.copy()\n",
    "    p['date'] = pd.to_datetime(p['date']).dt.tz_localize(None)\n",
    "\n",
    "    e = earnings.copy()\n",
    "    e['announce_datetime'] = pd.to_datetime(e['announce_datetime']).dt.tz_localize(None)\n",
    "    e['t0_date'] = e.apply(\n",
    "        lambda r: r['announce_datetime'].date() if r['bmo_amc']=='BMO' else (r['announce_datetime'] + pd.Timedelta(days=1)).date(),\n",
    "        axis=1\n",
    "    )\n",
    "    e['t0_date'] = pd.to_datetime(e['t0_date'])\n",
    "    # Attach close_t0 and close_t1 for labeling convenience\n",
    "    m = e.merge(p[['ticker','date','close']].rename(columns={'date':'t0_date','close':'close_t0'}),\n",
    "                on=['ticker','t0_date'], how='left')\n",
    "    p = p.sort_values(['ticker','date'])\n",
    "    p['close_t1'] = p.groupby('ticker')['close'].shift(-1)\n",
    "    m = m.merge(p[['ticker','date','close_t1']].rename(columns={'date':'t0_date'}),\n",
    "                on=['ticker','t0_date'], how='left')\n",
    "    return m\n",
    "\n",
    "def main(config_path: str = \"configs/exp_baseline.yaml\"):\n",
    "    cfg = load_config(config_path)\n",
    "    from .ingest import load_prices, load_earnings\n",
    "    prices = load_prices(Path(cfg.paths['raw_prices']))\n",
    "    earnings = load_earnings(Path(cfg.paths['raw_earnings']))\n",
    "    events = align_events(prices, earnings)\n",
    "    out = Path(cfg.paths['artifacts']) / \"events.csv\"\n",
    "    ensure_dir(out.parent)\n",
    "    events.to_csv(out, index=False)\n",
    "    print(f\"Saved aligned events to {out} (rows={len(events)})\")\n",
    "\n",
    "if __name__ == \"__main__\":\n",
    "    import sys\n",
    "    main(sys.argv[1] if len(sys.argv)>1 else \"configs/exp_baseline.yaml\")\n",
    "```\n",
    "</details>\n"
   ]
  },
  {
   "cell_type": "markdown",
   "id": "src-features-py",
   "metadata": {},
   "source": [
    "<details><summary><code>src/yourproj/features.py</code></summary>\n",
    "\n",
    "```python\n",
    "from __future__ import annotations\n",
    "import pandas as pd\n",
    "from pathlib import Path\n",
    "from .config import load_config\n",
    "from .utils import ensure_dir\n",
    "from .labels import make_day_ahead_label\n",
    "\n",
    "def build_structured_features(events: pd.DataFrame) -> pd.DataFrame:\n",
    "    df = events.copy()\n",
    "    if {'eps_actual','eps_estimate'}.issubset(df.columns):\n",
    "        df['surprise'] = df['eps_actual'] - df['eps_estimate']\n",
    "    else:\n",
    "        df['surprise'] = 0.0\n",
    "    return df\n",
    "\n",
    "def main(config_path: str = \"configs/exp_baseline.yaml\"):\n",
    "    cfg = load_config(config_path)\n",
    "    inp = Path(cfg.paths['artifacts']) / \"events.csv\"\n",
    "    out = Path(cfg.paths['artifacts']) / \"features.csv\"\n",
    "    df = pd.read_csv(inp, parse_dates=['t0_date'])\n",
    "    df = make_day_ahead_label(df)\n",
    "    feats = build_structured_features(df)\n",
    "    ensure_dir(out.parent)\n",
    "    feats.to_csv(out, index=False)\n",
    "    print(f\"Saved features to {out} (rows={len(feats)})\")\n",
    "\n",
    "if __name__ == \"__main__\":\n",
    "    import sys\n",
    "    main(sys.argv[1] if len(sys.argv)>1 else \"configs/exp_baseline.yaml\")\n",
    "```\n",
    "</details>\n"
   ]
  },
  {
   "cell_type": "markdown",
   "id": "src-labels-py",
   "metadata": {},
   "source": [
    "<details><summary><code>src/yourproj/labels.py</code></summary>\n",
    "\n",
    "```python\n",
    "import pandas as pd\n",
    "\n",
    "def make_day_ahead_label(events: pd.DataFrame) -> pd.DataFrame:\n",
    "    ev = events.copy()\n",
    "    if 'close_t0' in ev and 'close_t1' in ev:\n",
    "        ev['y_d1'] = (ev['close_t1'] > ev['close_t0']).astype('Int64')\n",
    "    else:\n",
    "        ev['y_d1'] = pd.NA\n",
    "    return ev\n",
    "```\n",
    "</details>\n"
   ]
  },
  {
   "cell_type": "code",
   "execution_count": null,
   "id": "18c69ba0",
   "metadata": {},
   "outputs": [],
   "source": [
    "import sys\n",
    "from pathlib import Path\n",
    "sys.path.append(str(Path.cwd() / \"src\"))\n",
    "\n",
    "import pandas as pd\n",
    "import matplotlib.pyplot as plt\n",
    "from IPython.display import display  # so display(...) works in both notebook & script\n",
    "\n",
    "from yourproj.ingest import load_prices, load_earnings\n",
    "from yourproj.preprocess import align_events\n",
    "from yourproj.labels import make_day_ahead_label\n",
    "from yourproj.features import build_structured_features\n",
    "\n",
    "RAW_PRICES = Path(\"data/raw/prices.csv\")\n",
    "RAW_EARNINGS = Path(\"data/raw/earnings.csv\")"
   ]
  },
  {
   "cell_type": "markdown",
   "id": "eda",
   "metadata": {},
   "source": [
    "## Exploratory Data Analysis\n",
    "Use this section to explore distributions, correlations, seasonality, and sanity checks. Capture insights and hypotheses to guide modeling.\n"
   ]
  },
  {
   "cell_type": "markdown",
   "id": "6877545c",
   "metadata": {},
   "source": [
    "## Load data"
   ]
  },
  {
   "cell_type": "code",
   "execution_count": null,
   "id": "987c119a",
   "metadata": {},
   "outputs": [],
   "source": [
    "prices = load_prices(RAW_PRICES)\n",
    "earnings = load_earnings(RAW_EARNINGS)\n",
    "display(prices.head())\n",
    "display(earnings.head())"
   ]
  },
  {
   "cell_type": "markdown",
   "id": "64fe333f",
   "metadata": {},
   "source": [
    "## Align + Label"
   ]
  },
  {
   "cell_type": "code",
   "execution_count": null,
   "id": "4d133382",
   "metadata": {},
   "outputs": [],
   "source": [
    "events = align_events(prices, earnings)\n",
    "labeled = make_day_ahead_label(events)\n",
    "feats = build_structured_features(labeled)\n",
    "display(feats.head())"
   ]
  },
  {
   "cell_type": "markdown",
   "id": "5e25cfc2",
   "metadata": {},
   "source": [
    "## Example plot"
   ]
  },
  {
   "cell_type": "code",
   "execution_count": null,
   "id": "41ad3f62",
   "metadata": {},
   "outputs": [],
   "source": [
    "Path(\"artifacts/figures\").mkdir(parents=True, exist_ok=True)\n",
    "if not feats.empty and \"surprise\" in feats:\n",
    "    ax = feats[\"surprise\"].hist(bins=30)\n",
    "    ax.set_title(\"Earnings Surprise Distribution\")\n",
    "    plt.tight_layout()\n",
    "    plt.savefig(\"artifacts/figures/surprise_dist.pdf\")\n",
    "    plt.show()"
   ]
  },
  {
   "cell_type": "markdown",
   "id": "models",
   "metadata": {},
   "source": [
    "## Models\n",
    "**Baselines:** Start with simple baselines (mean/last value, logistic/linear).\n",
    "\n",
    "**Candidates:** Consider tree-based (RF/XGBoost), linear, neural, or specialized models.\n",
    "\n",
    "**Hyperparameters:** Document search space and defaults.\n"
   ]
  },
  {
   "cell_type": "markdown",
   "id": "src-models-py",
   "metadata": {},
   "source": [
    "<details><summary><code>src/yourproj/models.py</code></summary>\n",
    "\n",
    "```python\n",
    "from __future__ import annotations\n",
    "from sklearn.linear_model import LogisticRegression\n",
    "\n",
    "def train_logreg(X, y):\n",
    "    model = LogisticRegression(max_iter=200)\n",
    "    model.fit(X, y)\n",
    "    return model\n",
    "```\n",
    "</details>\n"
   ]
  },
  {
   "cell_type": "markdown",
   "id": "training",
   "metadata": {},
   "source": [
    "## Training\n",
    "**Strategy:** Train/validation/test split strategy, cross-validation, and seeds.\n",
    "\n",
    "**Reproducibility:** Deterministic seeds, config files, and artifact logging.\n",
    "\n",
    "**Compute:** Hardware, runtime, and cost notes.\n"
   ]
  },
  {
   "cell_type": "code",
   "execution_count": null,
   "id": "run-train",
   "metadata": {},
   "outputs": [],
   "source": [
    "# Train model using generated features\n",
    "import sys\n",
    "from pathlib import Path\n",
    "sys.path.append(str(Path.cwd() / 'src'))\n",
    "from yourproj.train import main as train_main\n",
    "CONFIG = 'configs/exp_baseline.yaml'\n",
    "train_main(CONFIG)\n"
   ]
  },
  {
   "cell_type": "markdown",
   "id": "src-train-py",
   "metadata": {},
   "source": [
    "<details><summary><code>src/yourproj/train.py</code></summary>\n",
    "\n",
    "```python\n",
    "from __future__ import annotations\n",
    "from pathlib import Path\n",
    "import pandas as pd\n",
    "from sklearn.metrics import accuracy_score, roc_auc_score\n",
    "from .config import load_config\n",
    "from .utils import ensure_dir, save_json\n",
    "from .models import train_logreg\n",
    "\n",
    "def chrono_split(df: pd.DataFrame, time_col: str, test_size=0.25):\n",
    "    df = df.sort_values(time_col)\n",
    "    n = len(df)\n",
    "    n_test = max(1, int(round(n*test_size)))\n",
    "    return df.iloc[:-n_test], df.iloc[-n_test:]\n",
    "\n",
    "def main(config_path: str = \"configs/exp_baseline.yaml\"):\n",
    "    cfg = load_config(config_path)\n",
    "    feats_path = Path(cfg.paths['artifacts']) / \"features.csv\"\n",
    "    feats = pd.read_csv(feats_path, parse_dates=['t0_date'])\n",
    "    feats = feats.dropna(subset=[cfg.train['target']])\n",
    "    Xcols = cfg.train['features']\n",
    "    train, test = chrono_split(feats, \"t0_date\", cfg.train['test_size'])\n",
    "    Xtr, ytr = train[Xcols].values, train[cfg.train['target']].astype(int).values\n",
    "    Xte, yte = test[Xcols].values, test[cfg.train['target']].astype(int).values\n",
    "    model = train_logreg(Xtr, ytr)\n",
    "    prob = model.predict_proba(Xte)[:,1]\n",
    "    pred = (prob >= 0.5).astype(int)\n",
    "    metrics = {\n",
    "        \"accuracy\": float(accuracy_score(yte, pred)),\n",
    "        \"auc\": float(roc_auc_score(yte, prob)) if len(set(yte))>1 else None,\n",
    "        \"n_test\": int(len(yte)),\n",
    "        \"features\": Xcols,\n",
    "    }\n",
    "    out = Path(cfg.paths['artifacts']) / \"metrics.json\"\n",
    "    ensure_dir(out.parent)\n",
    "    save_json(metrics, out)\n",
    "    print(\"Saved metrics to\", out, metrics)\n",
    "\n",
    "if __name__ == \"__main__\":\n",
    "    import sys\n",
    "    main(sys.argv[1] if len(sys.argv)>1 else \"configs/exp_baseline.yaml\")\n",
    "```\n",
    "</details>\n"
   ]
  },
  {
   "cell_type": "markdown",
   "id": "evaluation",
   "metadata": {},
   "source": [
    "## Evaluation\n",
    "**Metrics:** Primary and secondary metrics; calibration and confidence intervals if applicable.\n",
    "\n",
    "**Error Analysis:** Segment performance by cohort/time; investigate failure modes.\n",
    "\n",
    "**Reporting:** Figures/tables for stakeholders and decision makers.\n"
   ]
  },
  {
   "cell_type": "code",
   "execution_count": null,
   "id": "run-eval",
   "metadata": {},
   "outputs": [],
   "source": [
    "# Evaluate model and save simple plots\n",
    "import sys\n",
    "from pathlib import Path\n",
    "sys.path.append(str(Path.cwd() / 'src'))\n",
    "from yourproj.eval import main as eval_main\n",
    "CONFIG = 'configs/exp_baseline.yaml'\n",
    "eval_main(CONFIG)\n"
   ]
  },
  {
   "cell_type": "markdown",
   "id": "src-eval-py",
   "metadata": {},
   "source": [
    "<details><summary><code>src/yourproj/eval.py</code></summary>\n",
    "\n",
    "```python\n",
    "from __future__ import annotations\n",
    "from pathlib import Path\n",
    "import json\n",
    "import matplotlib.pyplot as plt\n",
    "from .config import load_config\n",
    "\n",
    "def main(config_path: str = \"configs/exp_baseline.yaml\"):\n",
    "    cfg = load_config(config_path)\n",
    "    metrics_path = Path(cfg.paths['artifacts']) / \"metrics.json\"\n",
    "    with open(metrics_path) as f:\n",
    "        m = json.load(f)\n",
    "    print(\"Metrics:\", m)\n",
    "    vals = {k:v for k,v in m.items() if isinstance(v, (int,float)) and k in [\"accuracy\",\"auc\"] and v is not None}\n",
    "    if vals:\n",
    "        plt.bar(list(vals.keys()), list(vals.values()))\n",
    "        plt.title(\"Metrics\")\n",
    "        fig_path = Path(cfg.paths['artifacts']) / \"figures\" / \"metrics.pdf\"\n",
    "        fig_path.parent.mkdir(parents=True, exist_ok=True)\n",
    "        plt.savefig(fig_path)\n",
    "        print(\"Saved\", fig_path)\n",
    "\n",
    "if __name__ == \"__main__\":\n",
    "    import sys\n",
    "    main(sys.argv[1] if len(sys.argv)>1 else \"configs/exp_baseline.yaml\")\n",
    "```\n",
    "</details>\n"
   ]
  }
 ],
 "metadata": {
  "jupytext": {
   "cell_metadata_filter": "-all",
   "formats": "ipynb,py:percent",
   "main_language": "python"
  },
  "kernelspec": {
   "display_name": ".venv",
   "language": "python",
   "name": "python3"
  },
  "language_info": {
   "codemirror_mode": {
    "name": "ipython",
    "version": 3
   },
   "file_extension": ".py",
   "mimetype": "text/x-python",
   "name": "python",
   "nbconvert_exporter": "python",
   "pygments_lexer": "ipython3",
   "version": "3.12.3"
  }
 },
 "nbformat": 4,
 "nbformat_minor": 5
}
